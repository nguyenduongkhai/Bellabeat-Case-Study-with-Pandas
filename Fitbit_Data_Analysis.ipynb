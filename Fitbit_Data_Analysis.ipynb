{
 "cells": [
  {
   "cell_type": "code",
   "execution_count": 2,
   "id": "liquid-nurse",
   "metadata": {},
   "outputs": [],
   "source": [
    "import pandas as pd\n",
    "import os\n",
    "from matplotlib import pyplot as plt\n",
    "import numpy as np"
   ]
  },
  {
   "cell_type": "code",
   "execution_count": 3,
   "id": "alpine-salem",
   "metadata": {},
   "outputs": [
    {
     "data": {
      "text/plain": [
       "'C:\\\\Users\\\\ASUS\\\\Desktop\\\\DA projects\\\\Bellabeat'"
      ]
     },
     "execution_count": 3,
     "metadata": {},
     "output_type": "execute_result"
    }
   ],
   "source": [
    "pwd"
   ]
  },
  {
   "cell_type": "code",
   "execution_count": 4,
   "id": "apparent-interim",
   "metadata": {},
   "outputs": [],
   "source": [
    "path = 'Data\\\\'"
   ]
  },
  {
   "cell_type": "code",
   "execution_count": 5,
   "id": "acquired-karma",
   "metadata": {},
   "outputs": [
    {
     "data": {
      "text/plain": [
       "'Data\\\\dailyActivity_merged.csv'"
      ]
     },
     "execution_count": 5,
     "metadata": {},
     "output_type": "execute_result"
    }
   ],
   "source": [
    "path + 'dailyActivity_merged.csv'"
   ]
  },
  {
   "cell_type": "markdown",
   "id": "broken-trigger",
   "metadata": {},
   "source": [
    "## Import data"
   ]
  },
  {
   "cell_type": "code",
   "execution_count": 6,
   "id": "streaming-yacht",
   "metadata": {},
   "outputs": [],
   "source": [
    "dailyActivity_merged = pd.read_csv(path + 'dailyActivity_merged.csv')\n",
    "hourlyCalories_merged = pd.read_csv(path + 'hourlyCalories_merged.csv')\n",
    "hourlySteps_merged = pd.read_csv(path + 'hourlySteps_merged.csv')\n",
    "sleepDay_merged = pd.read_csv(path + 'sleepDay_merged.csv')\n",
    "weightLogInfo_merged = pd.read_csv(path + 'weightLogInfo_merged.csv')\n",
    "hourlyIntensities_merged = pd.read_csv(path + 'hourlyIntensities_merged.csv')"
   ]
  },
  {
   "cell_type": "markdown",
   "id": "caring-detail",
   "metadata": {},
   "source": [
    "## Process Dataset"
   ]
  },
  {
   "cell_type": "code",
   "execution_count": 7,
   "id": "blind-doubt",
   "metadata": {},
   "outputs": [
    {
     "data": {
      "text/plain": [
       "Id                 0\n",
       "Date               0\n",
       "WeightKg           0\n",
       "WeightPounds       0\n",
       "Fat               65\n",
       "BMI                0\n",
       "IsManualReport     0\n",
       "LogId              0\n",
       "dtype: int64"
      ]
     },
     "execution_count": 7,
     "metadata": {},
     "output_type": "execute_result"
    }
   ],
   "source": [
    "dailyActivity_merged.isnull().sum()\n",
    "hourlyCalories_merged.isnull().sum()\n",
    "hourlySteps_merged.isnull().sum()\n",
    "sleepDay_merged.isnull().sum()\n",
    "weightLogInfo_merged.isnull().sum()"
   ]
  },
  {
   "cell_type": "code",
   "execution_count": 8,
   "id": "japanese-thailand",
   "metadata": {},
   "outputs": [],
   "source": [
    "days = {0:'Mon',1: 'Tue', 2: 'Wed', 3:'Thu', 4:'Fri', 5: 'Sat', 6: 'Sun'}"
   ]
  },
  {
   "cell_type": "code",
   "execution_count": 9,
   "id": "given-turner",
   "metadata": {},
   "outputs": [],
   "source": [
    "# Monday = 0, Sunday = 6\n",
    "dailyActivity_merged['day_of_week'] = (pd.to_datetime(dailyActivity_merged.ActivityDate).dt.dayofweek)\n",
    "hourlyIntensities_merged['hour'] = pd.to_datetime(hourlyIntensities_merged['ActivityHour']).dt.hour\n",
    "\n",
    "# To merge data\n",
    "sleepDay_merged['ActivityDate'] = pd.to_datetime(sleepDay_merged['SleepDay']).dt.date"
   ]
  },
  {
   "cell_type": "markdown",
   "id": "optical-deposit",
   "metadata": {},
   "source": [
    "## Explore Data"
   ]
  },
  {
   "cell_type": "code",
   "execution_count": 10,
   "id": "sunset-tulsa",
   "metadata": {},
   "outputs": [
    {
     "data": {
      "text/plain": [
       "8"
      ]
     },
     "execution_count": 10,
     "metadata": {},
     "output_type": "execute_result"
    }
   ],
   "source": [
    "len(dailyActivity_merged.Id.unique())\n",
    "len(hourlyCalories_merged.Id.unique())\n",
    "len(hourlySteps_merged.Id.unique())\n",
    "len(sleepDay_merged.Id.unique())\n",
    "len(weightLogInfo_merged.Id.unique())"
   ]
  },
  {
   "cell_type": "markdown",
   "id": "resistant-humanitarian",
   "metadata": {},
   "source": [
    "## Summary data"
   ]
  },
  {
   "cell_type": "code",
   "execution_count": 11,
   "id": "absent-weekly",
   "metadata": {},
   "outputs": [
    {
     "data": {
      "text/html": [
       "<div>\n",
       "<style scoped>\n",
       "    .dataframe tbody tr th:only-of-type {\n",
       "        vertical-align: middle;\n",
       "    }\n",
       "\n",
       "    .dataframe tbody tr th {\n",
       "        vertical-align: top;\n",
       "    }\n",
       "\n",
       "    .dataframe thead th {\n",
       "        text-align: right;\n",
       "    }\n",
       "</style>\n",
       "<table border=\"1\" class=\"dataframe\">\n",
       "  <thead>\n",
       "    <tr style=\"text-align: right;\">\n",
       "      <th></th>\n",
       "      <th>count</th>\n",
       "      <th>mean</th>\n",
       "      <th>std</th>\n",
       "      <th>min</th>\n",
       "      <th>25%</th>\n",
       "      <th>50%</th>\n",
       "      <th>75%</th>\n",
       "      <th>max</th>\n",
       "    </tr>\n",
       "  </thead>\n",
       "  <tbody>\n",
       "    <tr>\n",
       "      <th>BMI</th>\n",
       "      <td>8.0</td>\n",
       "      <td>27.988011</td>\n",
       "      <td>8.236066</td>\n",
       "      <td>21.570001</td>\n",
       "      <td>23.6835</td>\n",
       "      <td>26.350542</td>\n",
       "      <td>27.561250</td>\n",
       "      <td>47.540001</td>\n",
       "    </tr>\n",
       "    <tr>\n",
       "      <th>WeightKg</th>\n",
       "      <td>8.0</td>\n",
       "      <td>77.811146</td>\n",
       "      <td>26.051549</td>\n",
       "      <td>52.599998</td>\n",
       "      <td>60.4150</td>\n",
       "      <td>70.995001</td>\n",
       "      <td>86.534375</td>\n",
       "      <td>133.500000</td>\n",
       "    </tr>\n",
       "  </tbody>\n",
       "</table>\n",
       "</div>"
      ],
      "text/plain": [
       "          count       mean        std        min      25%        50%  \\\n",
       "BMI         8.0  27.988011   8.236066  21.570001  23.6835  26.350542   \n",
       "WeightKg    8.0  77.811146  26.051549  52.599998  60.4150  70.995001   \n",
       "\n",
       "                75%         max  \n",
       "BMI       27.561250   47.540001  \n",
       "WeightKg  86.534375  133.500000  "
      ]
     },
     "execution_count": 11,
     "metadata": {},
     "output_type": "execute_result"
    }
   ],
   "source": [
    "#BMI infor of each person\n",
    "# Caculate average of each person\n",
    "weight_average = weightLogInfo_merged.groupby('Id')[['BMI','WeightKg']].mean()\n",
    "weight_average.describe().transpose()"
   ]
  },
  {
   "cell_type": "code",
   "execution_count": 12,
   "id": "pharmaceutical-dragon",
   "metadata": {},
   "outputs": [
    {
     "data": {
      "text/html": [
       "<div>\n",
       "<style scoped>\n",
       "    .dataframe tbody tr th:only-of-type {\n",
       "        vertical-align: middle;\n",
       "    }\n",
       "\n",
       "    .dataframe tbody tr th {\n",
       "        vertical-align: top;\n",
       "    }\n",
       "\n",
       "    .dataframe thead th {\n",
       "        text-align: right;\n",
       "    }\n",
       "</style>\n",
       "<table border=\"1\" class=\"dataframe\">\n",
       "  <thead>\n",
       "    <tr style=\"text-align: right;\">\n",
       "      <th></th>\n",
       "      <th>count</th>\n",
       "      <th>mean</th>\n",
       "      <th>std</th>\n",
       "      <th>min</th>\n",
       "      <th>25%</th>\n",
       "      <th>50%</th>\n",
       "      <th>75%</th>\n",
       "      <th>max</th>\n",
       "    </tr>\n",
       "  </thead>\n",
       "  <tbody>\n",
       "    <tr>\n",
       "      <th>TotalSleepRecords</th>\n",
       "      <td>24.0</td>\n",
       "      <td>1.096897</td>\n",
       "      <td>0.152415</td>\n",
       "      <td>1.0</td>\n",
       "      <td>1.00000</td>\n",
       "      <td>1.019231</td>\n",
       "      <td>1.129464</td>\n",
       "      <td>1.6</td>\n",
       "    </tr>\n",
       "    <tr>\n",
       "      <th>TotalMinutesAsleep</th>\n",
       "      <td>24.0</td>\n",
       "      <td>377.647518</td>\n",
       "      <td>136.764040</td>\n",
       "      <td>61.0</td>\n",
       "      <td>336.28125</td>\n",
       "      <td>419.071429</td>\n",
       "      <td>449.281250</td>\n",
       "      <td>652.0</td>\n",
       "    </tr>\n",
       "    <tr>\n",
       "      <th>TotalTimeInBed</th>\n",
       "      <td>24.0</td>\n",
       "      <td>420.095938</td>\n",
       "      <td>173.901710</td>\n",
       "      <td>69.0</td>\n",
       "      <td>377.06250</td>\n",
       "      <td>447.882143</td>\n",
       "      <td>485.317708</td>\n",
       "      <td>961.0</td>\n",
       "    </tr>\n",
       "  </tbody>\n",
       "</table>\n",
       "</div>"
      ],
      "text/plain": [
       "                    count        mean         std   min        25%  \\\n",
       "TotalSleepRecords    24.0    1.096897    0.152415   1.0    1.00000   \n",
       "TotalMinutesAsleep   24.0  377.647518  136.764040  61.0  336.28125   \n",
       "TotalTimeInBed       24.0  420.095938  173.901710  69.0  377.06250   \n",
       "\n",
       "                           50%         75%    max  \n",
       "TotalSleepRecords     1.019231    1.129464    1.6  \n",
       "TotalMinutesAsleep  419.071429  449.281250  652.0  \n",
       "TotalTimeInBed      447.882143  485.317708  961.0  "
      ]
     },
     "execution_count": 12,
     "metadata": {},
     "output_type": "execute_result"
    }
   ],
   "source": [
    "sleepDay_average = sleepDay_merged.groupby('Id')[['TotalSleepRecords', 'TotalMinutesAsleep','TotalTimeInBed']].mean()\n",
    "sleepDay_average.describe().transpose()"
   ]
  },
  {
   "cell_type": "code",
   "execution_count": 13,
   "id": "inappropriate-stone",
   "metadata": {},
   "outputs": [
    {
     "data": {
      "text/html": [
       "<div>\n",
       "<style scoped>\n",
       "    .dataframe tbody tr th:only-of-type {\n",
       "        vertical-align: middle;\n",
       "    }\n",
       "\n",
       "    .dataframe tbody tr th {\n",
       "        vertical-align: top;\n",
       "    }\n",
       "\n",
       "    .dataframe thead th {\n",
       "        text-align: right;\n",
       "    }\n",
       "</style>\n",
       "<table border=\"1\" class=\"dataframe\">\n",
       "  <thead>\n",
       "    <tr style=\"text-align: right;\">\n",
       "      <th></th>\n",
       "      <th>count</th>\n",
       "      <th>mean</th>\n",
       "      <th>std</th>\n",
       "      <th>min</th>\n",
       "      <th>25%</th>\n",
       "      <th>50%</th>\n",
       "      <th>75%</th>\n",
       "      <th>max</th>\n",
       "    </tr>\n",
       "  </thead>\n",
       "  <tbody>\n",
       "    <tr>\n",
       "      <th>TotalSteps</th>\n",
       "      <td>33.0</td>\n",
       "      <td>7519.272678</td>\n",
       "      <td>3576.340125</td>\n",
       "      <td>916.129032</td>\n",
       "      <td>5566.870968</td>\n",
       "      <td>7282.966667</td>\n",
       "      <td>9519.666667</td>\n",
       "      <td>16040.032258</td>\n",
       "    </tr>\n",
       "    <tr>\n",
       "      <th>TotalDistance</th>\n",
       "      <td>33.0</td>\n",
       "      <td>5.398953</td>\n",
       "      <td>2.772293</td>\n",
       "      <td>0.634516</td>\n",
       "      <td>3.454839</td>\n",
       "      <td>5.295333</td>\n",
       "      <td>6.913548</td>\n",
       "      <td>13.212903</td>\n",
       "    </tr>\n",
       "    <tr>\n",
       "      <th>VeryActiveMinutes</th>\n",
       "      <td>33.0</td>\n",
       "      <td>20.308769</td>\n",
       "      <td>23.803214</td>\n",
       "      <td>0.096774</td>\n",
       "      <td>3.580645</td>\n",
       "      <td>10.387097</td>\n",
       "      <td>23.419355</td>\n",
       "      <td>87.333333</td>\n",
       "    </tr>\n",
       "    <tr>\n",
       "      <th>FairlyActiveMinutes</th>\n",
       "      <td>33.0</td>\n",
       "      <td>13.260240</td>\n",
       "      <td>12.108217</td>\n",
       "      <td>0.258065</td>\n",
       "      <td>4.034483</td>\n",
       "      <td>12.322581</td>\n",
       "      <td>19.354839</td>\n",
       "      <td>61.266667</td>\n",
       "    </tr>\n",
       "    <tr>\n",
       "      <th>LightlyActiveMinutes</th>\n",
       "      <td>33.0</td>\n",
       "      <td>191.521291</td>\n",
       "      <td>75.689747</td>\n",
       "      <td>38.580645</td>\n",
       "      <td>143.838710</td>\n",
       "      <td>206.193548</td>\n",
       "      <td>245.806452</td>\n",
       "      <td>327.900000</td>\n",
       "    </tr>\n",
       "    <tr>\n",
       "      <th>SedentaryMinutes</th>\n",
       "      <td>33.0</td>\n",
       "      <td>999.151475</td>\n",
       "      <td>227.678526</td>\n",
       "      <td>662.322581</td>\n",
       "      <td>766.419355</td>\n",
       "      <td>1077.550000</td>\n",
       "      <td>1206.612903</td>\n",
       "      <td>1317.419355</td>\n",
       "    </tr>\n",
       "    <tr>\n",
       "      <th>Calories</th>\n",
       "      <td>33.0</td>\n",
       "      <td>2282.443660</td>\n",
       "      <td>562.761632</td>\n",
       "      <td>1483.354839</td>\n",
       "      <td>1916.967742</td>\n",
       "      <td>2131.769231</td>\n",
       "      <td>2599.620690</td>\n",
       "      <td>3436.580645</td>\n",
       "    </tr>\n",
       "  </tbody>\n",
       "</table>\n",
       "</div>"
      ],
      "text/plain": [
       "                      count         mean          std          min  \\\n",
       "TotalSteps             33.0  7519.272678  3576.340125   916.129032   \n",
       "TotalDistance          33.0     5.398953     2.772293     0.634516   \n",
       "VeryActiveMinutes      33.0    20.308769    23.803214     0.096774   \n",
       "FairlyActiveMinutes    33.0    13.260240    12.108217     0.258065   \n",
       "LightlyActiveMinutes   33.0   191.521291    75.689747    38.580645   \n",
       "SedentaryMinutes       33.0   999.151475   227.678526   662.322581   \n",
       "Calories               33.0  2282.443660   562.761632  1483.354839   \n",
       "\n",
       "                              25%          50%          75%           max  \n",
       "TotalSteps            5566.870968  7282.966667  9519.666667  16040.032258  \n",
       "TotalDistance            3.454839     5.295333     6.913548     13.212903  \n",
       "VeryActiveMinutes        3.580645    10.387097    23.419355     87.333333  \n",
       "FairlyActiveMinutes      4.034483    12.322581    19.354839     61.266667  \n",
       "LightlyActiveMinutes   143.838710   206.193548   245.806452    327.900000  \n",
       "SedentaryMinutes       766.419355  1077.550000  1206.612903   1317.419355  \n",
       "Calories              1916.967742  2131.769231  2599.620690   3436.580645  "
      ]
     },
     "execution_count": 13,
     "metadata": {},
     "output_type": "execute_result"
    }
   ],
   "source": [
    "# Caculate average of each person\n",
    "average_user_dailyActivity = dailyActivity_merged.groupby('Id')[['TotalSteps','TotalDistance','VeryActiveMinutes','FairlyActiveMinutes','LightlyActiveMinutes','SedentaryMinutes','Calories']].mean()\n",
    "average_user_dailyActivity.describe().transpose()"
   ]
  },
  {
   "cell_type": "code",
   "execution_count": 16,
   "id": "former-geography",
   "metadata": {},
   "outputs": [
    {
     "data": {
      "text/plain": [
       "42.4484201224775"
      ]
     },
     "execution_count": 16,
     "metadata": {},
     "output_type": "execute_result"
    }
   ],
   "source": [
    "# Diffenrece between the time in bed and the time feel asleep\n",
    "\n",
    "sleepDay_average.TotalTimeInBed.mean() - sleepDay_average.TotalMinutesAsleep.mean()"
   ]
  },
  {
   "cell_type": "markdown",
   "id": "sharing-fifth",
   "metadata": {},
   "source": [
    "## Merge data"
   ]
  },
  {
   "cell_type": "code",
   "execution_count": 130,
   "id": "referenced-recipient",
   "metadata": {},
   "outputs": [],
   "source": [
    "sleepDay_slice = sleepDay_merged.loc[:,['Id','TotalMinutesAsleep','ActivityDate']]\n",
    "dailyActivity_slice =  dailyActivity_merged.loc[:,['Id','SedentaryMinutes','ActivityDate']]\n",
    "dailyActivity_slice['ActivityDate'] = pd.to_datetime(dailyActivity_slice.ActivityDate).dt.date\n",
    "t1 = sleepDay_slice.merge(dailyActivity_slice, how='inner', on=['Id','ActivityDate'])"
   ]
  },
  {
   "cell_type": "markdown",
   "id": "modern-cookbook",
   "metadata": {},
   "source": [
    "## Data Visulazation"
   ]
  },
  {
   "cell_type": "code",
   "execution_count": 14,
   "id": "coastal-butter",
   "metadata": {},
   "outputs": [],
   "source": [
    "# Pre-visulazation\n",
    "very_active_avg = dailyActivity_merged.groupby('day_of_week')[['VeryActiveMinutes']].mean().rename(days)\n",
    "Calories_avg = dailyActivity_merged.groupby('day_of_week')[['Calories']].mean().rename(days)\n",
    "TotalSteps_avg = dailyActivity_merged.groupby('day_of_week')[['TotalSteps']].mean().rename(days)\n",
    "avg_intensites_per_hour = hourlyIntensities_merged.groupby('hour')[['TotalIntensity']].mean()\n"
   ]
  },
  {
   "cell_type": "code",
   "execution_count": 148,
   "id": "innocent-phone",
   "metadata": {},
   "outputs": [
    {
     "data": {
      "text/html": [
       "<div>\n",
       "<style scoped>\n",
       "    .dataframe tbody tr th:only-of-type {\n",
       "        vertical-align: middle;\n",
       "    }\n",
       "\n",
       "    .dataframe tbody tr th {\n",
       "        vertical-align: top;\n",
       "    }\n",
       "\n",
       "    .dataframe thead th {\n",
       "        text-align: right;\n",
       "    }\n",
       "</style>\n",
       "<table border=\"1\" class=\"dataframe\">\n",
       "  <thead>\n",
       "    <tr style=\"text-align: right;\">\n",
       "      <th></th>\n",
       "      <th>VeryActiveMinutes</th>\n",
       "    </tr>\n",
       "    <tr>\n",
       "      <th>day_of_week</th>\n",
       "      <th></th>\n",
       "    </tr>\n",
       "  </thead>\n",
       "  <tbody>\n",
       "    <tr>\n",
       "      <th>Mon</th>\n",
       "      <td>23.108333</td>\n",
       "    </tr>\n",
       "    <tr>\n",
       "      <th>Tue</th>\n",
       "      <td>22.953947</td>\n",
       "    </tr>\n",
       "    <tr>\n",
       "      <th>Wed</th>\n",
       "      <td>20.780000</td>\n",
       "    </tr>\n",
       "    <tr>\n",
       "      <th>Thu</th>\n",
       "      <td>19.408163</td>\n",
       "    </tr>\n",
       "    <tr>\n",
       "      <th>Fri</th>\n",
       "      <td>20.055556</td>\n",
       "    </tr>\n",
       "    <tr>\n",
       "      <th>Sat</th>\n",
       "      <td>21.919355</td>\n",
       "    </tr>\n",
       "    <tr>\n",
       "      <th>Sun</th>\n",
       "      <td>19.983471</td>\n",
       "    </tr>\n",
       "  </tbody>\n",
       "</table>\n",
       "</div>"
      ],
      "text/plain": [
       "             VeryActiveMinutes\n",
       "day_of_week                   \n",
       "Mon                  23.108333\n",
       "Tue                  22.953947\n",
       "Wed                  20.780000\n",
       "Thu                  19.408163\n",
       "Fri                  20.055556\n",
       "Sat                  21.919355\n",
       "Sun                  19.983471"
      ]
     },
     "execution_count": 148,
     "metadata": {},
     "output_type": "execute_result"
    }
   ],
   "source": [
    "very_active_avg"
   ]
  },
  {
   "cell_type": "code",
   "execution_count": 151,
   "id": "helpful-appeal",
   "metadata": {},
   "outputs": [
    {
     "data": {
      "text/html": [
       "<div>\n",
       "<style scoped>\n",
       "    .dataframe tbody tr th:only-of-type {\n",
       "        vertical-align: middle;\n",
       "    }\n",
       "\n",
       "    .dataframe tbody tr th {\n",
       "        vertical-align: top;\n",
       "    }\n",
       "\n",
       "    .dataframe thead th {\n",
       "        text-align: right;\n",
       "    }\n",
       "</style>\n",
       "<table border=\"1\" class=\"dataframe\">\n",
       "  <thead>\n",
       "    <tr style=\"text-align: right;\">\n",
       "      <th></th>\n",
       "      <th>Calories</th>\n",
       "      <th>TotalSteps</th>\n",
       "    </tr>\n",
       "    <tr>\n",
       "      <th>day_of_week</th>\n",
       "      <th></th>\n",
       "      <th></th>\n",
       "    </tr>\n",
       "  </thead>\n",
       "  <tbody>\n",
       "    <tr>\n",
       "      <th>Mon</th>\n",
       "      <td>2324.208333</td>\n",
       "      <td>7780.866667</td>\n",
       "    </tr>\n",
       "    <tr>\n",
       "      <th>Tue</th>\n",
       "      <td>2356.013158</td>\n",
       "      <td>8125.006579</td>\n",
       "    </tr>\n",
       "    <tr>\n",
       "      <th>Wed</th>\n",
       "      <td>2302.620000</td>\n",
       "      <td>7559.373333</td>\n",
       "    </tr>\n",
       "    <tr>\n",
       "      <th>Thu</th>\n",
       "      <td>2199.571429</td>\n",
       "      <td>7405.836735</td>\n",
       "    </tr>\n",
       "    <tr>\n",
       "      <th>Fri</th>\n",
       "      <td>2331.785714</td>\n",
       "      <td>7448.230159</td>\n",
       "    </tr>\n",
       "    <tr>\n",
       "      <th>Sat</th>\n",
       "      <td>2354.967742</td>\n",
       "      <td>8152.975806</td>\n",
       "    </tr>\n",
       "    <tr>\n",
       "      <th>Sun</th>\n",
       "      <td>2263.000000</td>\n",
       "      <td>6933.231405</td>\n",
       "    </tr>\n",
       "  </tbody>\n",
       "</table>\n",
       "</div>"
      ],
      "text/plain": [
       "                Calories   TotalSteps\n",
       "day_of_week                          \n",
       "Mon          2324.208333  7780.866667\n",
       "Tue          2356.013158  8125.006579\n",
       "Wed          2302.620000  7559.373333\n",
       "Thu          2199.571429  7405.836735\n",
       "Fri          2331.785714  7448.230159\n",
       "Sat          2354.967742  8152.975806\n",
       "Sun          2263.000000  6933.231405"
      ]
     },
     "execution_count": 151,
     "metadata": {},
     "output_type": "execute_result"
    }
   ],
   "source": [
    "# Merge data \n",
    "Calories_avg.merge(TotalSteps_avg, how='inner', on=['day_of_week'])"
   ]
  },
  {
   "cell_type": "code",
   "execution_count": 152,
   "id": "floral-birth",
   "metadata": {},
   "outputs": [
    {
     "data": {
      "text/html": [
       "<div>\n",
       "<style scoped>\n",
       "    .dataframe tbody tr th:only-of-type {\n",
       "        vertical-align: middle;\n",
       "    }\n",
       "\n",
       "    .dataframe tbody tr th {\n",
       "        vertical-align: top;\n",
       "    }\n",
       "\n",
       "    .dataframe thead th {\n",
       "        text-align: right;\n",
       "    }\n",
       "</style>\n",
       "<table border=\"1\" class=\"dataframe\">\n",
       "  <thead>\n",
       "    <tr style=\"text-align: right;\">\n",
       "      <th></th>\n",
       "      <th>TotalIntensity</th>\n",
       "    </tr>\n",
       "    <tr>\n",
       "      <th>hour</th>\n",
       "      <th></th>\n",
       "    </tr>\n",
       "  </thead>\n",
       "  <tbody>\n",
       "    <tr>\n",
       "      <th>0</th>\n",
       "      <td>2.129550</td>\n",
       "    </tr>\n",
       "    <tr>\n",
       "      <th>1</th>\n",
       "      <td>1.419078</td>\n",
       "    </tr>\n",
       "    <tr>\n",
       "      <th>2</th>\n",
       "      <td>1.043944</td>\n",
       "    </tr>\n",
       "    <tr>\n",
       "      <th>3</th>\n",
       "      <td>0.443730</td>\n",
       "    </tr>\n",
       "    <tr>\n",
       "      <th>4</th>\n",
       "      <td>0.633047</td>\n",
       "    </tr>\n",
       "    <tr>\n",
       "      <th>5</th>\n",
       "      <td>4.950644</td>\n",
       "    </tr>\n",
       "    <tr>\n",
       "      <th>6</th>\n",
       "      <td>7.771214</td>\n",
       "    </tr>\n",
       "    <tr>\n",
       "      <th>7</th>\n",
       "      <td>10.733620</td>\n",
       "    </tr>\n",
       "    <tr>\n",
       "      <th>8</th>\n",
       "      <td>14.668099</td>\n",
       "    </tr>\n",
       "    <tr>\n",
       "      <th>9</th>\n",
       "      <td>15.387755</td>\n",
       "    </tr>\n",
       "    <tr>\n",
       "      <th>10</th>\n",
       "      <td>17.643703</td>\n",
       "    </tr>\n",
       "    <tr>\n",
       "      <th>11</th>\n",
       "      <td>16.921251</td>\n",
       "    </tr>\n",
       "    <tr>\n",
       "      <th>12</th>\n",
       "      <td>19.847072</td>\n",
       "    </tr>\n",
       "    <tr>\n",
       "      <th>13</th>\n",
       "      <td>18.775244</td>\n",
       "    </tr>\n",
       "    <tr>\n",
       "      <th>14</th>\n",
       "      <td>18.868621</td>\n",
       "    </tr>\n",
       "    <tr>\n",
       "      <th>15</th>\n",
       "      <td>15.584699</td>\n",
       "    </tr>\n",
       "    <tr>\n",
       "      <th>16</th>\n",
       "      <td>17.716648</td>\n",
       "    </tr>\n",
       "    <tr>\n",
       "      <th>17</th>\n",
       "      <td>21.655629</td>\n",
       "    </tr>\n",
       "    <tr>\n",
       "      <th>18</th>\n",
       "      <td>21.921634</td>\n",
       "    </tr>\n",
       "    <tr>\n",
       "      <th>19</th>\n",
       "      <td>21.385210</td>\n",
       "    </tr>\n",
       "    <tr>\n",
       "      <th>20</th>\n",
       "      <td>14.339956</td>\n",
       "    </tr>\n",
       "    <tr>\n",
       "      <th>21</th>\n",
       "      <td>12.072928</td>\n",
       "    </tr>\n",
       "    <tr>\n",
       "      <th>22</th>\n",
       "      <td>9.063053</td>\n",
       "    </tr>\n",
       "    <tr>\n",
       "      <th>23</th>\n",
       "      <td>4.996678</td>\n",
       "    </tr>\n",
       "  </tbody>\n",
       "</table>\n",
       "</div>"
      ],
      "text/plain": [
       "      TotalIntensity\n",
       "hour                \n",
       "0           2.129550\n",
       "1           1.419078\n",
       "2           1.043944\n",
       "3           0.443730\n",
       "4           0.633047\n",
       "5           4.950644\n",
       "6           7.771214\n",
       "7          10.733620\n",
       "8          14.668099\n",
       "9          15.387755\n",
       "10         17.643703\n",
       "11         16.921251\n",
       "12         19.847072\n",
       "13         18.775244\n",
       "14         18.868621\n",
       "15         15.584699\n",
       "16         17.716648\n",
       "17         21.655629\n",
       "18         21.921634\n",
       "19         21.385210\n",
       "20         14.339956\n",
       "21         12.072928\n",
       "22          9.063053\n",
       "23          4.996678"
      ]
     },
     "execution_count": 152,
     "metadata": {},
     "output_type": "execute_result"
    }
   ],
   "source": [
    "avg_intensites_per_hour"
   ]
  },
  {
   "cell_type": "code",
   "execution_count": 156,
   "id": "descending-headline",
   "metadata": {},
   "outputs": [],
   "source": [
    "t1.to_csv('C:\\\\Users\\\\ASUS\\\\Desktop\\\\SleepvsSendentary.csv')"
   ]
  },
  {
   "cell_type": "code",
   "execution_count": 15,
   "id": "healthy-tongue",
   "metadata": {
    "scrolled": false
   },
   "outputs": [
    {
     "data": {
      "text/plain": [
       "Text(0, 0.5, 'Total Steps')"
      ]
     },
     "execution_count": 15,
     "metadata": {},
     "output_type": "execute_result"
    },
    {
     "data": {
      "image/png": "[encoded data removed]",
      "text/plain": [
       "<Figure size 1440x432 with 3 Axes>"
      ]
     },
     "metadata": {
      "needs_background": "light"
     },
     "output_type": "display_data"
    }
   ],
   "source": [
    "fig = plt.figure(figsize = (20,6))\n",
    "ax = plt.subplot(131)  \n",
    "\n",
    "###  Very active Minutes\n",
    "plt.bar(very_active_avg.index, very_active_avg.VeryActiveMinutes, color='#c5f542')\n",
    "plt.title('Very Active Minutes vs Day of Week')\n",
    "plt.xlabel('Day of week')\n",
    "plt.ylabel('Very active Minutes')\n",
    "\n",
    "### Calories vs Day of Week\n",
    "ax = plt.subplot(132)  \n",
    "plt.bar(Calories_avg.index, Calories_avg.Calories, color='#c42548')\n",
    "plt.title('Calories vs Day of Week')\n",
    "plt.xlabel('Day of week')\n",
    "plt.ylabel('Calories')\n",
    "\n",
    "### Total Steps vs Day of Week\n",
    "ax = plt.subplot(133)  \n",
    "plt.bar(very_active_avg.index, TotalSteps_avg.TotalSteps, color='#07ed89')\n",
    "plt.title('Total Steps vs Day of Week')\n",
    "plt.xlabel('Day of week')\n",
    "plt.ylabel('Total Steps')"
   ]
  },
  {
   "cell_type": "code",
   "execution_count": 141,
   "id": "veterinary-soccer",
   "metadata": {},
   "outputs": [
    {
     "data": {
      "image/png": "[encoded data removed]",
      "text/plain": [
       "<Figure size 1008x720 with 1 Axes>"
      ]
     },
     "metadata": {
      "needs_background": "light"
     },
     "output_type": "display_data"
    }
   ],
   "source": [
    "# Total Minutes Asleep vs Sendatary Minutes\n",
    "plt.figure(figsize = (14,10))\n",
    "plt.scatter(t1.TotalMinutesAsleep, t1.SedentaryMinutes)\n",
    "plt.xlabel('Total Minutes Asleep')\n",
    "plt.ylabel('Sendentary')\n",
    "plt.title('Total Minutes Asleep vs Sendatary Minutes')\n",
    "# CACULATE trend line \n",
    "z = np.polyfit(t1.TotalMinutesAsleep, t1.SedentaryMinutes, 1)\n",
    "p = np.poly1d(z)\n",
    "plt.plot(t1.TotalMinutesAsleep,p(t1.TotalMinutesAsleep),\"r--\")\n",
    "plt.show()"
   ]
  },
  {
   "cell_type": "code",
   "execution_count": 146,
   "id": "excited-arrival",
   "metadata": {
    "scrolled": false
   },
   "outputs": [
    {
     "data": {
      "image/png": "[encoded data removed]",
      "text/plain": [
       "<Figure size 1008x720 with 1 Axes>"
      ]
     },
     "metadata": {
      "needs_background": "light"
     },
     "output_type": "display_data"
    }
   ],
   "source": [
    "# Average intensities per hour\n",
    "plt.figure(figsize = (14,10))\n",
    "plt.plot(avg_intensites_per_hour.index, avg_intensites_per_hour, color='#e87b23')\n",
    "plt.xticks(np.arange(0,24,1))\n",
    "plt.title('Average intensity per hours')\n",
    "plt.xlabel('Hour')\n",
    "plt.ylabel('Intensity')\n",
    "plt.show()"
   ]
  },
  {
   "cell_type": "code",
   "execution_count": null,
   "id": "overall-cradle",
   "metadata": {},
   "outputs": [],
   "source": []
  }
 ],
 "metadata": {
  "kernelspec": {
   "display_name": "Python 3",
   "language": "python",
   "name": "python3"
  },
  "language_info": {
   "codemirror_mode": {
    "name": "ipython",
    "version": 3
   },
   "file_extension": ".py",
   "mimetype": "text/x-python",
   "name": "python",
   "nbconvert_exporter": "python",
   "pygments_lexer": "ipython3",
   "version": "3.8.5"
  }
 },
 "nbformat": 4,
 "nbformat_minor": 5
}
